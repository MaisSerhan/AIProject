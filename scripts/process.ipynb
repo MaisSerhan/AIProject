{
  "cells": [
    {
      "cell_type": "code",
      "execution_count": 25,
      "metadata": {
        "id": "63hjxiYGyy4S"
      },
      "outputs": [],
      "source": [
        "# Step 3:  Data Preprocessing and Preparation\n",
        "# In this step, we will transform the dataset into a form suitable for training machine learning models:"
      ]
    },
    {
      "cell_type": "code",
      "execution_count": 47,
      "metadata": {
        "id": "RQFcXnoYIa64"
      },
      "outputs": [],
      "source": [
        "#laibraries will use it in the AI Project\n",
        "import pandas as pd\n",
        "import numpy as np\n",
        "from sklearn.model_selection import train_test_split\n",
        "from sklearn.preprocessing import StandardScaler, LabelEncoder\n",
        "from scipy.stats import mstats"
      ]
    },
    {
      "cell_type": "code",
      "execution_count": 48,
      "metadata": {
        "id": "a3DQLsTfBbr5"
      },
      "outputs": [],
      "source": [
        "# Load the dataset\n",
        "file_path = '/content/sample_data/TG_T_CashValues_Rel.xlsx'\n",
        "df = pd.read_excel(file_path, sheet_name='TG80_T_Barwerte')"
      ]
    },
    {
      "cell_type": "code",
      "execution_count": 49,
      "metadata": {
        "id": "dVkOhpmnNhMa"
      },
      "outputs": [],
      "source": [
        "ndf=df.copy()"
      ]
    },
    {
      "cell_type": "code",
      "execution_count": 50,
      "metadata": {
        "colab": {
          "base_uri": "https://localhost:8080/"
        },
        "id": "GhrYT_afIVS5",
        "outputId": "1b1f8cce-3263-4b24-9e2b-f59463a58157"
      },
      "outputs": [
        {
          "name": "stdout",
          "output_type": "stream",
          "text": [
            "\n",
            "Gender column encoded: 0 = Male, 1 = Female\n"
          ]
        }
      ],
      "source": [
        "# Step 1: Encoding Categorical Features (Gender)\n",
        "# Label encode Gender (Male -> 0, Female -> 1)\n",
        "if 'Gender' in df.columns:\n",
        "    le = LabelEncoder()\n",
        "    ndf['Gender'] = le.fit_transform(df['Gender'])\n",
        "    print(\"\\nGender column encoded: 0 = Male, 1 = Female\")\n",
        "else:\n",
        "    print(\"Gender column not found in the dataset.\")"
      ]
    },
    {
      "cell_type": "code",
      "execution_count": 51,
      "metadata": {
        "colab": {
          "base_uri": "https://localhost:8080/"
        },
        "id": "dbWs1p7iNyo2",
        "outputId": "d3471d49-b317-4001-b0f5-1e5cb2f18715"
      },
      "outputs": [
        {
          "name": "stdout",
          "output_type": "stream",
          "text": [
            "      Gender  Age  Dur        PPV\n",
            "0       Male    0   20  15.198437\n",
            "1       Male    0   21  15.741015\n",
            "2       Male    0   22  16.267189\n",
            "3       Male    0   23  16.777448\n",
            "4       Male    0   24  17.272269\n",
            "...      ...  ...  ...        ...\n",
            "5265  Female   78    2   1.925421\n",
            "5266  Female   78    3   2.777638\n",
            "5267  Female   79    1   1.000000\n",
            "5268  Female   79    2   1.920897\n",
            "5269  Female   80    1   1.000000\n",
            "\n",
            "[5270 rows x 4 columns]\n",
            "ndf\n",
            "      Gender  Age  Dur        PPV\n",
            "0          1    0   20  15.198437\n",
            "1          1    0   21  15.741015\n",
            "2          1    0   22  16.267189\n",
            "3          1    0   23  16.777448\n",
            "4          1    0   24  17.272269\n",
            "...      ...  ...  ...        ...\n",
            "5265       0   78    2   1.925421\n",
            "5266       0   78    3   2.777638\n",
            "5267       0   79    1   1.000000\n",
            "5268       0   79    2   1.920897\n",
            "5269       0   80    1   1.000000\n",
            "\n",
            "[5270 rows x 4 columns]\n"
          ]
        }
      ],
      "source": [
        "print(df)\n",
        "print(\"ndf\")\n",
        "print(ndf)"
      ]
    },
    {
      "cell_type": "code",
      "execution_count": 54,
      "metadata": {
        "id": "92tiF-N9IV0g"
      },
      "outputs": [],
      "source": [
        "# Step 2: Scaling Numerical Features (Age, Duration)\n",
        "# Standardize Age and Duration using StandardScaler\n",
        "scaler = StandardScaler()\n",
        "numerical_columns = ['Age', 'Dur'] # Adjust column names if necessary"
      ]
    },
    {
      "cell_type": "code",
      "execution_count": 55,
      "metadata": {
        "colab": {
          "base_uri": "https://localhost:8080/"
        },
        "id": "lRHBxJ85JwoQ",
        "outputId": "599f9425-8355-4217-bbaa-42d4cf92d3de"
      },
      "outputs": [
        {
          "name": "stdout",
          "output_type": "stream",
          "text": [
            "Numerical columns ['Age', 'Dur'] successfully scaled.\n"
          ]
        }
      ],
      "source": [
        "try:\n",
        "    ndf[numerical_columns] = scaler.fit_transform(ndf[numerical_columns])\n",
        "    print(f\"Numerical columns {numerical_columns} successfully scaled.\")\n",
        "except KeyError as e:\n",
        "    print(f\"Error: {e}. Ensure numerical columns exist in the dataset.\")"
      ]
    },
    {
      "cell_type": "code",
      "execution_count": 56,
      "metadata": {
        "colab": {
          "base_uri": "https://localhost:8080/"
        },
        "id": "KqRcPFaJJwwY",
        "outputId": "24061f64-1d75-4660-d413-fb40cef9a9dc"
      },
      "outputs": [
        {
          "name": "stdout",
          "output_type": "stream",
          "text": [
            "Outliers in ['Age', 'Dur', 'PPV'] handled using winsorization.\n"
          ]
        }
      ],
      "source": [
        "# Step 3: Handling Outliers\n",
        "# Winsorize numerical features to handle outliers\n",
        "outlier_columns = ['Age', 'Dur', 'PPV']  # Columns to handle outliers for\n",
        "if set(outlier_columns).issubset(ndf.columns):\n",
        "    for col in outlier_columns:\n",
        "        ndf[col] = mstats.winsorize(ndf[col], limits=[0.01, 0.01])  # Trims top and bottom 1%\n",
        "    print(f\"Outliers in {outlier_columns} handled using winsorization.\")\n",
        "else:\n",
        "    print(\"Error: Outlier columns missing in dataset.\")\n"
      ]
    },
    {
      "cell_type": "code",
      "execution_count": 57,
      "metadata": {
        "colab": {
          "base_uri": "https://localhost:8080/"
        },
        "id": "bNqdplkuJw03",
        "outputId": "bd48b70b-ed33-43cb-dd69-b732b14be5b1"
      },
      "outputs": [
        {
          "name": "stdout",
          "output_type": "stream",
          "text": [
            "Features and target variable separated.\n"
          ]
        }
      ],
      "source": [
        "# Step 4: Splitting Data\n",
        "# Separate features (X) and target variable (y)\n",
        "X = ndf[['Gender', 'Age', 'Dur']]  # Features for training\n",
        "y = ndf['PPV']  # Target variable\n",
        "print(\"Features and target variable separated.\")"
      ]
    },
    {
      "cell_type": "code",
      "execution_count": 58,
      "metadata": {
        "colab": {
          "base_uri": "https://localhost:8080/"
        },
        "id": "5CFPJLuHIV83",
        "outputId": "3f41a6f8-2b3c-492e-b72e-061797054d19"
      },
      "outputs": [
        {
          "name": "stdout",
          "output_type": "stream",
          "text": [
            "Data split into training and testing sets.\n"
          ]
        }
      ],
      "source": [
        "# Split into training and testing sets (80% training, 20% testing)\n",
        "X_train, X_test, y_train, y_test = train_test_split(X, y, test_size=0.2, random_state=42)\n",
        "print(\"Data split into training and testing sets.\")"
      ]
    },
    {
      "cell_type": "code",
      "execution_count": 59,
      "metadata": {
        "id": "8ekn5dGGMc3B"
      },
      "outputs": [],
      "source": [
        "# Step 5: Feature Selection (if necessary)\n",
        "# All features ('Gender', 'Age', 'Dur') are retained in this case\n",
        "# (No action needed as they're already prepared for modeling)"
      ]
    },
    {
      "cell_type": "code",
      "execution_count": 60,
      "metadata": {
        "colab": {
          "base_uri": "https://localhost:8080/"
        },
        "id": "rKzn0pXKMdD3",
        "outputId": "ad26f808-52ed-40cb-e329-76cc1057013f"
      },
      "outputs": [
        {
          "name": "stdout",
          "output_type": "stream",
          "text": [
            "Preprocessed data is ready for model training.\n",
            "Training set size: 4216 rows\n",
            "Testing set size: 1054 rows\n"
          ]
        }
      ],
      "source": [
        "\n",
        "# Step 6: Prepare for Modeling\n",
        "# Confirm alignment of features and target variable\n",
        "print(\"Preprocessed data is ready for model training.\")\n",
        "print(f\"Training set size: {X_train.shape[0]} rows\")\n",
        "print(f\"Testing set size: {X_test.shape[0]} rows\")"
      ]
    },
    {
      "cell_type": "code",
      "execution_count": 65,
      "metadata": {
        "colab": {
          "base_uri": "https://localhost:8080/",
          "height": 423
        },
        "id": "00G497cFMmaK",
        "outputId": "e064ec5d-526a-443f-960d-8d4c2eba8791"
      },
      "outputs": [
        {
          "data": {
            "application/vnd.google.colaboratory.intrinsic+json": {
              "summary": "{\n  \"name\": \"ndf\",\n  \"rows\": 5270,\n  \"fields\": [\n    {\n      \"column\": \"Gender\",\n      \"properties\": {\n        \"dtype\": \"number\",\n        \"std\": 0,\n        \"min\": 0,\n        \"max\": 1,\n        \"num_unique_values\": 2,\n        \"samples\": [\n          0,\n          1\n        ],\n        \"semantic_type\": \"\",\n        \"description\": \"\"\n      }\n    },\n    {\n      \"column\": \"Age\",\n      \"properties\": {\n        \"dtype\": \"number\",\n        \"std\": 0.9973797432076689,\n        \"min\": -1.6761913399799075,\n        \"max\": 2.28743404666431,\n        \"num_unique_values\": 75,\n        \"samples\": [\n          -1.4619413190802202,\n          1.6982464891901696\n        ],\n        \"semantic_type\": \"\",\n        \"description\": \"\"\n      }\n    },\n    {\n      \"column\": \"Dur\",\n      \"properties\": {\n        \"dtype\": \"number\",\n        \"std\": 1.000094890164854,\n        \"min\": -1.5865883858160805,\n        \"max\": 1.9661753921000351,\n        \"num_unique_values\": 50,\n        \"samples\": [\n          0.7335838773128114,\n          -0.8615345535883018\n        ],\n        \"semantic_type\": \"\",\n        \"description\": \"\"\n      }\n    },\n    {\n      \"column\": \"PPV\",\n      \"properties\": {\n        \"dtype\": \"number\",\n        \"std\": 7.023242457802477,\n        \"min\": 1.0,\n        \"max\": 25.6619321008968,\n        \"num_unique_values\": 2884,\n        \"samples\": [\n          12.8397908825182,\n          18.6517286561281\n        ],\n        \"semantic_type\": \"\",\n        \"description\": \"\"\n      }\n    }\n  ]\n}",
              "type": "dataframe",
              "variable_name": "ndf"
            },
            "text/html": [
              "\n",
              "  <div id=\"df-ac307cb9-aa5f-46cd-b557-127eab2efd59\" class=\"colab-df-container\">\n",
              "    <div>\n",
              "<style scoped>\n",
              "    .dataframe tbody tr th:only-of-type {\n",
              "        vertical-align: middle;\n",
              "    }\n",
              "\n",
              "    .dataframe tbody tr th {\n",
              "        vertical-align: top;\n",
              "    }\n",
              "\n",
              "    .dataframe thead th {\n",
              "        text-align: right;\n",
              "    }\n",
              "</style>\n",
              "<table border=\"1\" class=\"dataframe\">\n",
              "  <thead>\n",
              "    <tr style=\"text-align: right;\">\n",
              "      <th></th>\n",
              "      <th>Gender</th>\n",
              "      <th>Age</th>\n",
              "      <th>Dur</th>\n",
              "      <th>PPV</th>\n",
              "    </tr>\n",
              "  </thead>\n",
              "  <tbody>\n",
              "    <tr>\n",
              "      <th>0</th>\n",
              "      <td>1</td>\n",
              "      <td>-1.676191</td>\n",
              "      <td>-0.208986</td>\n",
              "      <td>15.198437</td>\n",
              "    </tr>\n",
              "    <tr>\n",
              "      <th>1</th>\n",
              "      <td>1</td>\n",
              "      <td>-1.676191</td>\n",
              "      <td>-0.136481</td>\n",
              "      <td>15.741015</td>\n",
              "    </tr>\n",
              "    <tr>\n",
              "      <th>2</th>\n",
              "      <td>1</td>\n",
              "      <td>-1.676191</td>\n",
              "      <td>-0.063975</td>\n",
              "      <td>16.267189</td>\n",
              "    </tr>\n",
              "    <tr>\n",
              "      <th>3</th>\n",
              "      <td>1</td>\n",
              "      <td>-1.676191</td>\n",
              "      <td>0.008530</td>\n",
              "      <td>16.777448</td>\n",
              "    </tr>\n",
              "    <tr>\n",
              "      <th>4</th>\n",
              "      <td>1</td>\n",
              "      <td>-1.676191</td>\n",
              "      <td>0.081035</td>\n",
              "      <td>17.272269</td>\n",
              "    </tr>\n",
              "    <tr>\n",
              "      <th>...</th>\n",
              "      <td>...</td>\n",
              "      <td>...</td>\n",
              "      <td>...</td>\n",
              "      <td>...</td>\n",
              "    </tr>\n",
              "    <tr>\n",
              "      <th>5265</th>\n",
              "      <td>0</td>\n",
              "      <td>2.287434</td>\n",
              "      <td>-1.514083</td>\n",
              "      <td>1.925421</td>\n",
              "    </tr>\n",
              "    <tr>\n",
              "      <th>5266</th>\n",
              "      <td>0</td>\n",
              "      <td>2.287434</td>\n",
              "      <td>-1.441578</td>\n",
              "      <td>2.777638</td>\n",
              "    </tr>\n",
              "    <tr>\n",
              "      <th>5267</th>\n",
              "      <td>0</td>\n",
              "      <td>2.287434</td>\n",
              "      <td>-1.586588</td>\n",
              "      <td>1.000000</td>\n",
              "    </tr>\n",
              "    <tr>\n",
              "      <th>5268</th>\n",
              "      <td>0</td>\n",
              "      <td>2.287434</td>\n",
              "      <td>-1.514083</td>\n",
              "      <td>1.920897</td>\n",
              "    </tr>\n",
              "    <tr>\n",
              "      <th>5269</th>\n",
              "      <td>0</td>\n",
              "      <td>2.287434</td>\n",
              "      <td>-1.586588</td>\n",
              "      <td>1.000000</td>\n",
              "    </tr>\n",
              "  </tbody>\n",
              "</table>\n",
              "<p>5270 rows × 4 columns</p>\n",
              "</div>\n",
              "    <div class=\"colab-df-buttons\">\n",
              "\n",
              "  <div class=\"colab-df-container\">\n",
              "    <button class=\"colab-df-convert\" onclick=\"convertToInteractive('df-ac307cb9-aa5f-46cd-b557-127eab2efd59')\"\n",
              "            title=\"Convert this dataframe to an interactive table.\"\n",
              "            style=\"display:none;\">\n",
              "\n",
              "  <svg xmlns=\"http://www.w3.org/2000/svg\" height=\"24px\" viewBox=\"0 -960 960 960\">\n",
              "    <path d=\"M120-120v-720h720v720H120Zm60-500h600v-160H180v160Zm220 220h160v-160H400v160Zm0 220h160v-160H400v160ZM180-400h160v-160H180v160Zm440 0h160v-160H620v160ZM180-180h160v-160H180v160Zm440 0h160v-160H620v160Z\"/>\n",
              "  </svg>\n",
              "    </button>\n",
              "\n",
              "  <style>\n",
              "    .colab-df-container {\n",
              "      display:flex;\n",
              "      gap: 12px;\n",
              "    }\n",
              "\n",
              "    .colab-df-convert {\n",
              "      background-color: #E8F0FE;\n",
              "      border: none;\n",
              "      border-radius: 50%;\n",
              "      cursor: pointer;\n",
              "      display: none;\n",
              "      fill: #1967D2;\n",
              "      height: 32px;\n",
              "      padding: 0 0 0 0;\n",
              "      width: 32px;\n",
              "    }\n",
              "\n",
              "    .colab-df-convert:hover {\n",
              "      background-color: #E2EBFA;\n",
              "      box-shadow: 0px 1px 2px rgba(60, 64, 67, 0.3), 0px 1px 3px 1px rgba(60, 64, 67, 0.15);\n",
              "      fill: #174EA6;\n",
              "    }\n",
              "\n",
              "    .colab-df-buttons div {\n",
              "      margin-bottom: 4px;\n",
              "    }\n",
              "\n",
              "    [theme=dark] .colab-df-convert {\n",
              "      background-color: #3B4455;\n",
              "      fill: #D2E3FC;\n",
              "    }\n",
              "\n",
              "    [theme=dark] .colab-df-convert:hover {\n",
              "      background-color: #434B5C;\n",
              "      box-shadow: 0px 1px 3px 1px rgba(0, 0, 0, 0.15);\n",
              "      filter: drop-shadow(0px 1px 2px rgba(0, 0, 0, 0.3));\n",
              "      fill: #FFFFFF;\n",
              "    }\n",
              "  </style>\n",
              "\n",
              "    <script>\n",
              "      const buttonEl =\n",
              "        document.querySelector('#df-ac307cb9-aa5f-46cd-b557-127eab2efd59 button.colab-df-convert');\n",
              "      buttonEl.style.display =\n",
              "        google.colab.kernel.accessAllowed ? 'block' : 'none';\n",
              "\n",
              "      async function convertToInteractive(key) {\n",
              "        const element = document.querySelector('#df-ac307cb9-aa5f-46cd-b557-127eab2efd59');\n",
              "        const dataTable =\n",
              "          await google.colab.kernel.invokeFunction('convertToInteractive',\n",
              "                                                    [key], {});\n",
              "        if (!dataTable) return;\n",
              "\n",
              "        const docLinkHtml = 'Like what you see? Visit the ' +\n",
              "          '<a target=\"_blank\" href=https://colab.research.google.com/notebooks/data_table.ipynb>data table notebook</a>'\n",
              "          + ' to learn more about interactive tables.';\n",
              "        element.innerHTML = '';\n",
              "        dataTable['output_type'] = 'display_data';\n",
              "        await google.colab.output.renderOutput(dataTable, element);\n",
              "        const docLink = document.createElement('div');\n",
              "        docLink.innerHTML = docLinkHtml;\n",
              "        element.appendChild(docLink);\n",
              "      }\n",
              "    </script>\n",
              "  </div>\n",
              "\n",
              "\n",
              "<div id=\"df-a8c8ff03-d79d-4c92-b7fd-9e84d67b8ee3\">\n",
              "  <button class=\"colab-df-quickchart\" onclick=\"quickchart('df-a8c8ff03-d79d-4c92-b7fd-9e84d67b8ee3')\"\n",
              "            title=\"Suggest charts\"\n",
              "            style=\"display:none;\">\n",
              "\n",
              "<svg xmlns=\"http://www.w3.org/2000/svg\" height=\"24px\"viewBox=\"0 0 24 24\"\n",
              "     width=\"24px\">\n",
              "    <g>\n",
              "        <path d=\"M19 3H5c-1.1 0-2 .9-2 2v14c0 1.1.9 2 2 2h14c1.1 0 2-.9 2-2V5c0-1.1-.9-2-2-2zM9 17H7v-7h2v7zm4 0h-2V7h2v10zm4 0h-2v-4h2v4z\"/>\n",
              "    </g>\n",
              "</svg>\n",
              "  </button>\n",
              "\n",
              "<style>\n",
              "  .colab-df-quickchart {\n",
              "      --bg-color: #E8F0FE;\n",
              "      --fill-color: #1967D2;\n",
              "      --hover-bg-color: #E2EBFA;\n",
              "      --hover-fill-color: #174EA6;\n",
              "      --disabled-fill-color: #AAA;\n",
              "      --disabled-bg-color: #DDD;\n",
              "  }\n",
              "\n",
              "  [theme=dark] .colab-df-quickchart {\n",
              "      --bg-color: #3B4455;\n",
              "      --fill-color: #D2E3FC;\n",
              "      --hover-bg-color: #434B5C;\n",
              "      --hover-fill-color: #FFFFFF;\n",
              "      --disabled-bg-color: #3B4455;\n",
              "      --disabled-fill-color: #666;\n",
              "  }\n",
              "\n",
              "  .colab-df-quickchart {\n",
              "    background-color: var(--bg-color);\n",
              "    border: none;\n",
              "    border-radius: 50%;\n",
              "    cursor: pointer;\n",
              "    display: none;\n",
              "    fill: var(--fill-color);\n",
              "    height: 32px;\n",
              "    padding: 0;\n",
              "    width: 32px;\n",
              "  }\n",
              "\n",
              "  .colab-df-quickchart:hover {\n",
              "    background-color: var(--hover-bg-color);\n",
              "    box-shadow: 0 1px 2px rgba(60, 64, 67, 0.3), 0 1px 3px 1px rgba(60, 64, 67, 0.15);\n",
              "    fill: var(--button-hover-fill-color);\n",
              "  }\n",
              "\n",
              "  .colab-df-quickchart-complete:disabled,\n",
              "  .colab-df-quickchart-complete:disabled:hover {\n",
              "    background-color: var(--disabled-bg-color);\n",
              "    fill: var(--disabled-fill-color);\n",
              "    box-shadow: none;\n",
              "  }\n",
              "\n",
              "  .colab-df-spinner {\n",
              "    border: 2px solid var(--fill-color);\n",
              "    border-color: transparent;\n",
              "    border-bottom-color: var(--fill-color);\n",
              "    animation:\n",
              "      spin 1s steps(1) infinite;\n",
              "  }\n",
              "\n",
              "  @keyframes spin {\n",
              "    0% {\n",
              "      border-color: transparent;\n",
              "      border-bottom-color: var(--fill-color);\n",
              "      border-left-color: var(--fill-color);\n",
              "    }\n",
              "    20% {\n",
              "      border-color: transparent;\n",
              "      border-left-color: var(--fill-color);\n",
              "      border-top-color: var(--fill-color);\n",
              "    }\n",
              "    30% {\n",
              "      border-color: transparent;\n",
              "      border-left-color: var(--fill-color);\n",
              "      border-top-color: var(--fill-color);\n",
              "      border-right-color: var(--fill-color);\n",
              "    }\n",
              "    40% {\n",
              "      border-color: transparent;\n",
              "      border-right-color: var(--fill-color);\n",
              "      border-top-color: var(--fill-color);\n",
              "    }\n",
              "    60% {\n",
              "      border-color: transparent;\n",
              "      border-right-color: var(--fill-color);\n",
              "    }\n",
              "    80% {\n",
              "      border-color: transparent;\n",
              "      border-right-color: var(--fill-color);\n",
              "      border-bottom-color: var(--fill-color);\n",
              "    }\n",
              "    90% {\n",
              "      border-color: transparent;\n",
              "      border-bottom-color: var(--fill-color);\n",
              "    }\n",
              "  }\n",
              "</style>\n",
              "\n",
              "  <script>\n",
              "    async function quickchart(key) {\n",
              "      const quickchartButtonEl =\n",
              "        document.querySelector('#' + key + ' button');\n",
              "      quickchartButtonEl.disabled = true;  // To prevent multiple clicks.\n",
              "      quickchartButtonEl.classList.add('colab-df-spinner');\n",
              "      try {\n",
              "        const charts = await google.colab.kernel.invokeFunction(\n",
              "            'suggestCharts', [key], {});\n",
              "      } catch (error) {\n",
              "        console.error('Error during call to suggestCharts:', error);\n",
              "      }\n",
              "      quickchartButtonEl.classList.remove('colab-df-spinner');\n",
              "      quickchartButtonEl.classList.add('colab-df-quickchart-complete');\n",
              "    }\n",
              "    (() => {\n",
              "      let quickchartButtonEl =\n",
              "        document.querySelector('#df-a8c8ff03-d79d-4c92-b7fd-9e84d67b8ee3 button');\n",
              "      quickchartButtonEl.style.display =\n",
              "        google.colab.kernel.accessAllowed ? 'block' : 'none';\n",
              "    })();\n",
              "  </script>\n",
              "</div>\n",
              "\n",
              "  <div id=\"id_dea36369-36d0-4e09-a378-5fbda1ca6f49\">\n",
              "    <style>\n",
              "      .colab-df-generate {\n",
              "        background-color: #E8F0FE;\n",
              "        border: none;\n",
              "        border-radius: 50%;\n",
              "        cursor: pointer;\n",
              "        display: none;\n",
              "        fill: #1967D2;\n",
              "        height: 32px;\n",
              "        padding: 0 0 0 0;\n",
              "        width: 32px;\n",
              "      }\n",
              "\n",
              "      .colab-df-generate:hover {\n",
              "        background-color: #E2EBFA;\n",
              "        box-shadow: 0px 1px 2px rgba(60, 64, 67, 0.3), 0px 1px 3px 1px rgba(60, 64, 67, 0.15);\n",
              "        fill: #174EA6;\n",
              "      }\n",
              "\n",
              "      [theme=dark] .colab-df-generate {\n",
              "        background-color: #3B4455;\n",
              "        fill: #D2E3FC;\n",
              "      }\n",
              "\n",
              "      [theme=dark] .colab-df-generate:hover {\n",
              "        background-color: #434B5C;\n",
              "        box-shadow: 0px 1px 3px 1px rgba(0, 0, 0, 0.15);\n",
              "        filter: drop-shadow(0px 1px 2px rgba(0, 0, 0, 0.3));\n",
              "        fill: #FFFFFF;\n",
              "      }\n",
              "    </style>\n",
              "    <button class=\"colab-df-generate\" onclick=\"generateWithVariable('ndf')\"\n",
              "            title=\"Generate code using this dataframe.\"\n",
              "            style=\"display:none;\">\n",
              "\n",
              "  <svg xmlns=\"http://www.w3.org/2000/svg\" height=\"24px\"viewBox=\"0 0 24 24\"\n",
              "       width=\"24px\">\n",
              "    <path d=\"M7,19H8.4L18.45,9,17,7.55,7,17.6ZM5,21V16.75L18.45,3.32a2,2,0,0,1,2.83,0l1.4,1.43a1.91,1.91,0,0,1,.58,1.4,1.91,1.91,0,0,1-.58,1.4L9.25,21ZM18.45,9,17,7.55Zm-12,3A5.31,5.31,0,0,0,4.9,8.1,5.31,5.31,0,0,0,1,6.5,5.31,5.31,0,0,0,4.9,4.9,5.31,5.31,0,0,0,6.5,1,5.31,5.31,0,0,0,8.1,4.9,5.31,5.31,0,0,0,12,6.5,5.46,5.46,0,0,0,6.5,12Z\"/>\n",
              "  </svg>\n",
              "    </button>\n",
              "    <script>\n",
              "      (() => {\n",
              "      const buttonEl =\n",
              "        document.querySelector('#id_dea36369-36d0-4e09-a378-5fbda1ca6f49 button.colab-df-generate');\n",
              "      buttonEl.style.display =\n",
              "        google.colab.kernel.accessAllowed ? 'block' : 'none';\n",
              "\n",
              "      buttonEl.onclick = () => {\n",
              "        google.colab.notebook.generateWithVariable('ndf');\n",
              "      }\n",
              "      })();\n",
              "    </script>\n",
              "  </div>\n",
              "\n",
              "    </div>\n",
              "  </div>\n"
            ],
            "text/plain": [
              "      Gender       Age       Dur        PPV\n",
              "0          1 -1.676191 -0.208986  15.198437\n",
              "1          1 -1.676191 -0.136481  15.741015\n",
              "2          1 -1.676191 -0.063975  16.267189\n",
              "3          1 -1.676191  0.008530  16.777448\n",
              "4          1 -1.676191  0.081035  17.272269\n",
              "...      ...       ...       ...        ...\n",
              "5265       0  2.287434 -1.514083   1.925421\n",
              "5266       0  2.287434 -1.441578   2.777638\n",
              "5267       0  2.287434 -1.586588   1.000000\n",
              "5268       0  2.287434 -1.514083   1.920897\n",
              "5269       0  2.287434 -1.586588   1.000000\n",
              "\n",
              "[5270 rows x 4 columns]"
            ]
          },
          "execution_count": 65,
          "metadata": {},
          "output_type": "execute_result"
        }
      ],
      "source": [
        "ndf"
      ]
    },
    {
      "cell_type": "code",
      "execution_count": 66,
      "metadata": {
        "colab": {
          "base_uri": "https://localhost:8080/"
        },
        "id": "tCghpwtbPPtv",
        "outputId": "ba370178-f6d1-49da-fa6c-f68eaeaf54a2"
      },
      "outputs": [
        {
          "name": "stdout",
          "output_type": "stream",
          "text": [
            "Preprocessed data saved to 'preprocessed_data.csv'\n"
          ]
        }
      ],
      "source": [
        "# Save the preprocessed dataset to a new CSV file\n",
        "ndf.to_csv('preprocessed_data.csv', index=False)\n",
        "print(\"Preprocessed data saved to 'preprocessed_data.csv'\")"
      ]
    },
    {
      "cell_type": "code",
      "execution_count": 67,
      "metadata": {
        "colab": {
          "base_uri": "https://localhost:8080/"
        },
        "id": "tKLR54V_PU9W",
        "outputId": "ffde65f2-2420-453a-c493-972eb874df2b"
      },
      "outputs": [
        {
          "name": "stdout",
          "output_type": "stream",
          "text": [
            "Features and target saved to 'features.csv' and 'target.csv'\n"
          ]
        }
      ],
      "source": [
        "# Save features (X) and target (y) to separate CSV files\n",
        "X.to_csv('features.csv', index=False)\n",
        "y.to_csv('target.csv', index=False)\n",
        "print(\"Features and target saved to 'features.csv' and 'target.csv'\")"
      ]
    }
  ],
  "metadata": {
    "colab": {
      "provenance": []
    },
    "kernelspec": {
      "display_name": "Python 3",
      "name": "python3"
    },
    "language_info": {
      "name": "python"
    }
  },
  "nbformat": 4,
  "nbformat_minor": 0
}
